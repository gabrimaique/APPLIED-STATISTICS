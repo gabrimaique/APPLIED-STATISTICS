{
 "cells": [
  {
   "cell_type": "code",
   "execution_count": null,
   "id": "a5463286-4b4c-47e2-8191-cd2872058e42",
   "metadata": {},
   "outputs": [],
   "source": [
    "##Problem 1: Extending the Lady Tasting Tea\n",
    "#Let's extend the Lady Tasting Tea experiment as follows. The original experiment has 8 cups: 4 tea-first and 4 milk-first. Suppose we prepare 12 cups: 8 tea-first and 4 milk-first. A participant claims they can tell which was poured first.\n",
    "#Simulate this experiment using numpy by randomly shuffling the cups many times and calculating the probability of the participant correctly identifying all cups by chance. Compare your result with the original 8-cup experiment.\n",
    "#In your notebook, explain your simulation process clearly, report and interpret the estimated probability, and discuss whether, based on this probability, you would consider extending or relaxing the p-value threshold compared to the original design."
   ]
  },
  {
   "cell_type": "code",
   "execution_count": 5,
   "id": "6e1b684d-632c-45a6-83de-c6d321effa68",
   "metadata": {},
   "outputs": [],
   "source": [
    "#Start by importing the necessary libraries\n",
    "import numpy as np\n"
   ]
  },
  {
   "cell_type": "code",
   "execution_count": 6,
   "id": "14438db0-c6ac-4aa3-a79e-eed4b623f445",
   "metadata": {},
   "outputs": [],
   "source": [
    "# We have 12 cups: 8 tea-first, 4 milk-first.\n",
    "# 8 tea-first (T), 4 milk-first (M)\n",
    "cups = ['T'] * 8 + ['M'] * 4\n",
    "n_cups = len(cups)\n"
   ]
  },
  {
   "cell_type": "code",
   "execution_count": 7,
   "id": "c88eeae6-3c71-4bb4-9353-e4ff3bb93bd3",
   "metadata": {},
   "outputs": [],
   "source": [
    "#Simulate the Experiment\n",
    "#We'll shuffle the cups and check how often the participant \"correctly guesses\" all cups by chance.\n",
    "\n",
    "def simulate_lady_tasting_tea(n_trials=100000):\n",
    "    correct_guesses = 0\n",
    "\n",
    "    for _ in range(n_trials):\n",
    "        # Shuffle order as 'guesses' (random arrangement)\n",
    "        guessed = np.random.permutation(cups)\n",
    "        if np.array_equal(guessed, cups):\n",
    "            correct_guesses += 1\n",
    "\n",
    "    probability = correct_guesses / n_trials\n",
    "    return probability\n"
   ]
  },
  {
   "cell_type": "code",
   "execution_count": 8,
   "id": "60240f22-11c0-4532-a1a2-f286b8ff6de4",
   "metadata": {},
   "outputs": [
    {
     "name": "stdout",
     "output_type": "stream",
     "text": [
      "Probability (12 cups): 0.0021200000\n"
     ]
    }
   ],
   "source": [
    "#Run the Simulation\n",
    "probability_12_cups = simulate_lady_tasting_tea()\n",
    "print(f\"Probability (12 cups): {probability_12_cups:.10f}\")\n"
   ]
  },
  {
   "cell_type": "code",
   "execution_count": 9,
   "id": "802b91ad-bee4-47a2-bc42-f44a6e341594",
   "metadata": {},
   "outputs": [
    {
     "name": "stdout",
     "output_type": "stream",
     "text": [
      "Probability (8 cups): 0.0142800000\n"
     ]
    }
   ],
   "source": [
    "#Compare with Original Experiment (8 cups)\n",
    "#Original setup: 4 tea-first, 4 milk-first\n",
    "\n",
    "original_cups = ['T'] * 4 + ['M'] * 4\n",
    "\n",
    "def simulate_original_lady_tasting_tea(n_trials=100000):\n",
    "    correct_guesses = 0\n",
    "    for _ in range(n_trials):\n",
    "        guessed = np.random.permutation(original_cups)\n",
    "        if np.array_equal(guessed, original_cups):\n",
    "            correct_guesses += 1\n",
    "    return correct_guesses / n_trials\n",
    "\n",
    "probability_8_cups = simulate_original_lady_tasting_tea()\n",
    "print(f\"Probability (8 cups): {probability_8_cups:.10f}\")\n"
   ]
  },
  {
   "cell_type": "code",
   "execution_count": null,
   "id": "d8fb9f25-f996-4a3e-a3cd-5a862b59064d",
   "metadata": {},
   "outputs": [],
   "source": [
    "#We mixed up the cups a lot of times and checked how often someone could guess all the cups right just by luck.\n",
    "\n",
    "#What we found:\n",
    "\n",
    "#With 12 cups, the chance of guessing all correctly is very, very small.\n",
    "\n",
    "#With 8 cups, the chance is a little bigger, but still very small.\n",
    "\n",
    "#Why it matters:\n",
    "#If you use more cups, it's even less likely someone could guess them all right by accident. So, you can be a bit more relaxed about the p-value—you don't need it to be as strict for bigger experiments."
   ]
  }
 ],
 "metadata": {
  "kernelspec": {
   "display_name": "Python [conda env:anaconda3]",
   "language": "python",
   "name": "conda-env-anaconda3-py"
  },
  "language_info": {
   "codemirror_mode": {
    "name": "ipython",
    "version": 3
   },
   "file_extension": ".py",
   "mimetype": "text/x-python",
   "name": "python",
   "nbconvert_exporter": "python",
   "pygments_lexer": "ipython3",
   "version": "3.11.5"
  }
 },
 "nbformat": 4,
 "nbformat_minor": 5
}
