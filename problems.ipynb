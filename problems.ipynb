{
 "cells": [
  {
   "cell_type": "code",
   "execution_count": null,
   "id": "2a16ec56-cd6b-4b56-88a8-f6db30d1a8b1",
   "metadata": {},
   "outputs": [],
   "source": [
    "## Problem 1: Extending the Lady Tasting Tea\n",
    "\n",
    "Let's extend the Lady Tasting Tea experiment as follows.\n",
    "The original experiment has 8 cups: 4 tea-first and 4 milk-first.\n",
    "Suppose we prepare 12 cups: 8 tea-first and 4 milk-first.\n",
    "A participant claims they can tell which was poured first.  \n",
    "\n",
    "Simulate this experiment using `numpy` by randomly shuffling the cups many times and calculating the probability of the participant correctly identifying all cups by chance.\n",
    "Compare your result with the original 8-cup experiment.  \n",
    "\n",
    "In your notebook, explain your simulation process clearly, report and interpret the estimated probability, and discuss whether, based on this probability, you would consider extending or relaxing the p-value threshold compared to the original design.  \n",
    "\n",
    "\n"
   ]
  },
  {
   "cell_type": "code",
   "execution_count": 2,
   "id": "53a73b57-1516-4efd-a2e4-e4855b79643d",
   "metadata": {},
   "outputs": [],
   "source": [
    "# Import required libraries\n",
    "\n",
    "# https://numpy.org/doc/stable/\n",
    "import numpy as np\n",
    "\n",
    "# https://matplotlib.org/\n",
    "import matplotlib.pyplot as plt\n",
    "plt.style.use('ggplot')  # Use ggplot style\n",
    "\n",
    "import math"
   ]
  },
  {
   "cell_type": "code",
   "execution_count": 3,
   "id": "e2967c50-5080-4455-ad22-5536ad7d5191",
   "metadata": {},
   "outputs": [
    {
     "data": {
      "text/plain": [
       "array([11,  9,  3,  2,  1,  4,  5,  0, 10,  6,  8,  7])"
      ]
     },
     "execution_count": 3,
     "metadata": {},
     "output_type": "execute_result"
    }
   ],
   "source": [
    "# Create a numpy array using values from 1 to 12\n",
    "array = np.arange(12)\n",
    "\n",
    "# Shuffle the array\n",
    "np.random.shuffle(array)\n",
    "\n",
    "# Print the array\n",
    "array"
   ]
  },
  {
   "cell_type": "code",
   "execution_count": null,
   "id": "d92c611f-a6b2-4687-aeca-a863ec66f917",
   "metadata": {},
   "outputs": [],
   "source": []
  }
 ],
 "metadata": {
  "kernelspec": {
   "display_name": "Python [conda env:anaconda3]",
   "language": "python",
   "name": "conda-env-anaconda3-py"
  },
  "language_info": {
   "codemirror_mode": {
    "name": "ipython",
    "version": 3
   },
   "file_extension": ".py",
   "mimetype": "text/x-python",
   "name": "python",
   "nbconvert_exporter": "python",
   "pygments_lexer": "ipython3",
   "version": "3.11.5"
  }
 },
 "nbformat": 4,
 "nbformat_minor": 5
}
