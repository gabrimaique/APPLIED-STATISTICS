{
 "cells": [
  {
   "cell_type": "code",
   "execution_count": null,
   "id": "2a16ec56-cd6b-4b56-88a8-f6db30d1a8b1",
   "metadata": {},
   "outputs": [],
   "source": [
    "prblems\n",
    "dddddd\n",
    "channgge\n"
   ]
  }
 ],
 "metadata": {
  "kernelspec": {
   "display_name": "Python [conda env:anaconda3]",
   "language": "python",
   "name": "conda-env-anaconda3-py"
  },
  "language_info": {
   "codemirror_mode": {
    "name": "ipython",
    "version": 3
   },
   "file_extension": ".py",
   "mimetype": "text/x-python",
   "name": "python",
   "nbconvert_exporter": "python",
   "pygments_lexer": "ipython3",
   "version": "3.11.5"
  }
 },
 "nbformat": 4,
 "nbformat_minor": 5
}
