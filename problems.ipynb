{
 "cells": [
  {
   "cell_type": "code",
   "execution_count": null,
   "id": "2a16ec56-cd6b-4b56-88a8-f6db30d1a8b1",
   "metadata": {},
   "outputs": [],
   "source": [
    "## Problem 1: Extending the Lady Tasting Tea\n",
    "\n",
    "In the classic Lady Tasting Tea experiment, there are 8 cups of tea:\n",
    "\n",
    "4 cups where tea is poured first\n",
    "\n",
    "4 cups where milk is poured first\n",
    "\n",
    "Someone claims they can tell which cups were poured in which order.\n",
    "\n",
    "##Extension:\n",
    "\n",
    "Now, we increase the number of cups to 12:\n",
    "\n",
    "8 cups are tea-first\n",
    "\n",
    "4 cups are milk-first\n",
    "\n",
    "The participant still claims they can tell which is which.\n",
    "\n",
    "##Task:\n",
    "\n",
    "You want to simulate this experiment in Python (using numpy):\n",
    "\n",
    "Randomly mix (shuffle) the cups many times.\n",
    "\n",
    "For each shuffle, \"pretend\" the participant is guessing.\n",
    "\n",
    "Calculate how often the participant would get them all correct just by luck (i.e., by randomly guessing).\n",
    "\n",
    "Then, compare:\n",
    "\n",
    "What is the chance of getting them all right (just by chance) in the 12-cup version?\n",
    "\n",
    "How does this compare to the original 8-cup version?\n",
    "\n"
   ]
  },
  {
   "cell_type": "code",
   "execution_count": 2,
   "id": "53a73b57-1516-4efd-a2e4-e4855b79643d",
   "metadata": {},
   "outputs": [],
   "source": [
    "# Import required libraries\n",
    "\n",
    "# https://numpy.org/doc/stable/\n",
    "import numpy as np\n",
    "\n",
    "# https://matplotlib.org/\n",
    "import matplotlib.pyplot as plt\n",
    "plt.style.use('ggplot')  # Use ggplot style\n",
    "\n",
    "import math"
   ]
  },
  {
   "cell_type": "code",
   "execution_count": 2,
   "id": "e2967c50-5080-4455-ad22-5536ad7d5191",
   "metadata": {},
   "outputs": [
    {
     "name": "stdout",
     "output_type": "stream",
     "text": [
      "[ 3  9  4 10 12  5  6  2  1  7 11  8]\n"
     ]
    }
   ],
   "source": [
    "import numpy as np\n",
    "\n",
    "# Make an array of numbers from 1 to 12\n",
    "cups = np.arange(1, 13)\n",
    "\n",
    "# Randomly mix the cups\n",
    "np.random.shuffle(cups)\n",
    "\n",
    "# Show the mixed order\n",
    "print(cups)\n"
   ]
  },
  {
   "cell_type": "code",
   "execution_count": 4,
   "id": "d92c611f-a6b2-4687-aeca-a863ec66f917",
   "metadata": {},
   "outputs": [
    {
     "data": {
      "image/png": "[encoded data removed]",
      "text/plain": [
       "<Figure size 640x480 with 1 Axes>"
      ]
     },
     "metadata": {},
     "output_type": "display_data"
    }
   ],
   "source": [
    "import matplotlib.pyplot as plt\n",
    "\n",
    "num_trials = 10000  # Number of simulations\n",
    "success_count = 0\n",
    "\n",
    "for _ in range(num_trials):\n",
    "    cups = np.arange(1, 13)  # Cups numbered 1 to 12\n",
    "    np.random.shuffle(cups)  # Shuffle cups randomly\n",
    "\n",
    "    # Check if the shuffled order matches the original order (perfect guess)\n",
    "    if np.array_equal(cups, np.arange(1, 13)):\n",
    "        success_count += 1\n",
    "\n",
    "# Calculate probabilities\n",
    "prob_success = success_count / num_trials\n",
    "prob_failure = 1 - prob_success\n",
    "\n",
    "# Data for bar plot\n",
    "labels = ['Perfect Guess', 'Not Perfect Guess']\n",
    "probabilities = [prob_success, prob_failure]\n",
    "\n",
    "# Create bar plot\n",
    "plt.bar(labels, probabilities, color=['green', 'orange'])\n",
    "plt.ylabel('Probability')\n",
    "plt.title('Probability Distribution of Perfect Guess')\n",
    "plt.show()\n"
   ]
  },
  {
   "cell_type": "code",
   "execution_count": null,
   "id": "6e1b684d-632c-45a6-83de-c6d321effa68",
   "metadata": {},
   "outputs": [],
   "source": []
  }
 ],
 "metadata": {
  "kernelspec": {
   "display_name": "Python [conda env:anaconda3]",
   "language": "python",
   "name": "conda-env-anaconda3-py"
  },
  "language_info": {
   "codemirror_mode": {
    "name": "ipython",
    "version": 3
   },
   "file_extension": ".py",
   "mimetype": "text/x-python",
   "name": "python",
   "nbconvert_exporter": "python",
   "pygments_lexer": "ipython3",
   "version": "3.11.5"
  }
 },
 "nbformat": 4,
 "nbformat_minor": 5
}
